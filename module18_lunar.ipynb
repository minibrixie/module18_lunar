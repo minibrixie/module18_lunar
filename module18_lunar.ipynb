{
  "nbformat": 4,
  "nbformat_minor": 0,
  "metadata": {
    "colab": {
      "provenance": [],
      "mount_file_id": "1ukpOvw3NvAo54NoRsDw-pVrcgDACnfuI",
      "authorship_tag": "ABX9TyPUPP/n7WKaua2pNIaEyoSK",
      "include_colab_link": true
    },
    "kernelspec": {
      "name": "python3",
      "display_name": "Python 3"
    },
    "language_info": {
      "name": "python"
    }
  },
  "cells": [
    {
      "cell_type": "markdown",
      "metadata": {
        "id": "view-in-github",
        "colab_type": "text"
      },
      "source": [
        "<a href=\"https://colab.research.google.com/github/minibrixie/module18_lunar/blob/main/module18_lunar.ipynb\" target=\"_parent\"><img src=\"https://colab.research.google.com/assets/colab-badge.svg\" alt=\"Open In Colab\"/></a>"
      ]
    },
    {
      "cell_type": "code",
      "execution_count": 1,
      "metadata": {
        "colab": {
          "base_uri": "https://localhost:8080/"
        },
        "id": "Y7lFgn1ZyCiA",
        "outputId": "1e78bc28-9598-4fe7-87aa-4b522455b4c1"
      },
      "outputs": [
        {
          "output_type": "stream",
          "name": "stdout",
          "text": [
            "Mounted at /content/drive\n"
          ]
        }
      ],
      "source": [
        "from google.colab import drive\n",
        "drive.mount('/content/drive')"
      ]
    },
    {
      "cell_type": "code",
      "source": [
        "import pandas as pd"
      ],
      "metadata": {
        "id": "l9wTWfF9KHTm"
      },
      "execution_count": 2,
      "outputs": []
    },
    {
      "cell_type": "code",
      "source": [
        "filename = '/content/drive/MyDrive/Lunar_Activity/CalIt2.csv'\n",
        "df = pd.read_csv(filename)"
      ],
      "metadata": {
        "id": "2Wo6CocrKKuk"
      },
      "execution_count": 3,
      "outputs": []
    },
    {
      "cell_type": "code",
      "source": [
        "df.head()"
      ],
      "metadata": {
        "colab": {
          "base_uri": "https://localhost:8080/",
          "height": 206
        },
        "id": "ccmWQrizKSHl",
        "outputId": "fafd60dc-3a12-4dea-cae6-85b6111f19bc"
      },
      "execution_count": 4,
      "outputs": [
        {
          "output_type": "execute_result",
          "data": {
            "text/plain": [
              "   7  07/24/05  00:00:00  0\n",
              "0  9  07/24/05  00:00:00  0\n",
              "1  7  07/24/05  00:30:00  1\n",
              "2  9  07/24/05  00:30:00  0\n",
              "3  7  07/24/05  01:00:00  0\n",
              "4  9  07/24/05  01:00:00  0"
            ],
            "text/html": [
              "\n",
              "  <div id=\"df-a81eb81f-7a4b-4cad-90d7-56ea9bb5fedf\">\n",
              "    <div class=\"colab-df-container\">\n",
              "      <div>\n",
              "<style scoped>\n",
              "    .dataframe tbody tr th:only-of-type {\n",
              "        vertical-align: middle;\n",
              "    }\n",
              "\n",
              "    .dataframe tbody tr th {\n",
              "        vertical-align: top;\n",
              "    }\n",
              "\n",
              "    .dataframe thead th {\n",
              "        text-align: right;\n",
              "    }\n",
              "</style>\n",
              "<table border=\"1\" class=\"dataframe\">\n",
              "  <thead>\n",
              "    <tr style=\"text-align: right;\">\n",
              "      <th></th>\n",
              "      <th>7</th>\n",
              "      <th>07/24/05</th>\n",
              "      <th>00:00:00</th>\n",
              "      <th>0</th>\n",
              "    </tr>\n",
              "  </thead>\n",
              "  <tbody>\n",
              "    <tr>\n",
              "      <th>0</th>\n",
              "      <td>9</td>\n",
              "      <td>07/24/05</td>\n",
              "      <td>00:00:00</td>\n",
              "      <td>0</td>\n",
              "    </tr>\n",
              "    <tr>\n",
              "      <th>1</th>\n",
              "      <td>7</td>\n",
              "      <td>07/24/05</td>\n",
              "      <td>00:30:00</td>\n",
              "      <td>1</td>\n",
              "    </tr>\n",
              "    <tr>\n",
              "      <th>2</th>\n",
              "      <td>9</td>\n",
              "      <td>07/24/05</td>\n",
              "      <td>00:30:00</td>\n",
              "      <td>0</td>\n",
              "    </tr>\n",
              "    <tr>\n",
              "      <th>3</th>\n",
              "      <td>7</td>\n",
              "      <td>07/24/05</td>\n",
              "      <td>01:00:00</td>\n",
              "      <td>0</td>\n",
              "    </tr>\n",
              "    <tr>\n",
              "      <th>4</th>\n",
              "      <td>9</td>\n",
              "      <td>07/24/05</td>\n",
              "      <td>01:00:00</td>\n",
              "      <td>0</td>\n",
              "    </tr>\n",
              "  </tbody>\n",
              "</table>\n",
              "</div>\n",
              "      <button class=\"colab-df-convert\" onclick=\"convertToInteractive('df-a81eb81f-7a4b-4cad-90d7-56ea9bb5fedf')\"\n",
              "              title=\"Convert this dataframe to an interactive table.\"\n",
              "              style=\"display:none;\">\n",
              "        \n",
              "  <svg xmlns=\"http://www.w3.org/2000/svg\" height=\"24px\"viewBox=\"0 0 24 24\"\n",
              "       width=\"24px\">\n",
              "    <path d=\"M0 0h24v24H0V0z\" fill=\"none\"/>\n",
              "    <path d=\"M18.56 5.44l.94 2.06.94-2.06 2.06-.94-2.06-.94-.94-2.06-.94 2.06-2.06.94zm-11 1L8.5 8.5l.94-2.06 2.06-.94-2.06-.94L8.5 2.5l-.94 2.06-2.06.94zm10 10l.94 2.06.94-2.06 2.06-.94-2.06-.94-.94-2.06-.94 2.06-2.06.94z\"/><path d=\"M17.41 7.96l-1.37-1.37c-.4-.4-.92-.59-1.43-.59-.52 0-1.04.2-1.43.59L10.3 9.45l-7.72 7.72c-.78.78-.78 2.05 0 2.83L4 21.41c.39.39.9.59 1.41.59.51 0 1.02-.2 1.41-.59l7.78-7.78 2.81-2.81c.8-.78.8-2.07 0-2.86zM5.41 20L4 18.59l7.72-7.72 1.47 1.35L5.41 20z\"/>\n",
              "  </svg>\n",
              "      </button>\n",
              "      \n",
              "  <style>\n",
              "    .colab-df-container {\n",
              "      display:flex;\n",
              "      flex-wrap:wrap;\n",
              "      gap: 12px;\n",
              "    }\n",
              "\n",
              "    .colab-df-convert {\n",
              "      background-color: #E8F0FE;\n",
              "      border: none;\n",
              "      border-radius: 50%;\n",
              "      cursor: pointer;\n",
              "      display: none;\n",
              "      fill: #1967D2;\n",
              "      height: 32px;\n",
              "      padding: 0 0 0 0;\n",
              "      width: 32px;\n",
              "    }\n",
              "\n",
              "    .colab-df-convert:hover {\n",
              "      background-color: #E2EBFA;\n",
              "      box-shadow: 0px 1px 2px rgba(60, 64, 67, 0.3), 0px 1px 3px 1px rgba(60, 64, 67, 0.15);\n",
              "      fill: #174EA6;\n",
              "    }\n",
              "\n",
              "    [theme=dark] .colab-df-convert {\n",
              "      background-color: #3B4455;\n",
              "      fill: #D2E3FC;\n",
              "    }\n",
              "\n",
              "    [theme=dark] .colab-df-convert:hover {\n",
              "      background-color: #434B5C;\n",
              "      box-shadow: 0px 1px 3px 1px rgba(0, 0, 0, 0.15);\n",
              "      filter: drop-shadow(0px 1px 2px rgba(0, 0, 0, 0.3));\n",
              "      fill: #FFFFFF;\n",
              "    }\n",
              "  </style>\n",
              "\n",
              "      <script>\n",
              "        const buttonEl =\n",
              "          document.querySelector('#df-a81eb81f-7a4b-4cad-90d7-56ea9bb5fedf button.colab-df-convert');\n",
              "        buttonEl.style.display =\n",
              "          google.colab.kernel.accessAllowed ? 'block' : 'none';\n",
              "\n",
              "        async function convertToInteractive(key) {\n",
              "          const element = document.querySelector('#df-a81eb81f-7a4b-4cad-90d7-56ea9bb5fedf');\n",
              "          const dataTable =\n",
              "            await google.colab.kernel.invokeFunction('convertToInteractive',\n",
              "                                                     [key], {});\n",
              "          if (!dataTable) return;\n",
              "\n",
              "          const docLinkHtml = 'Like what you see? Visit the ' +\n",
              "            '<a target=\"_blank\" href=https://colab.research.google.com/notebooks/data_table.ipynb>data table notebook</a>'\n",
              "            + ' to learn more about interactive tables.';\n",
              "          element.innerHTML = '';\n",
              "          dataTable['output_type'] = 'display_data';\n",
              "          await google.colab.output.renderOutput(dataTable, element);\n",
              "          const docLink = document.createElement('div');\n",
              "          docLink.innerHTML = docLinkHtml;\n",
              "          element.appendChild(docLink);\n",
              "        }\n",
              "      </script>\n",
              "    </div>\n",
              "  </div>\n",
              "  "
            ]
          },
          "metadata": {},
          "execution_count": 4
        }
      ]
    },
    {
      "cell_type": "code",
      "source": [
        "df.columns = ['Flow_ID', 'Date', 'Time', 'Count']"
      ],
      "metadata": {
        "id": "rdJVRnAJKUQu"
      },
      "execution_count": 5,
      "outputs": []
    },
    {
      "cell_type": "code",
      "source": [
        "df.head()"
      ],
      "metadata": {
        "colab": {
          "base_uri": "https://localhost:8080/",
          "height": 206
        },
        "id": "kexm7kAWKWBX",
        "outputId": "2b3b7a29-7ada-4e31-c3ea-ac62166bbfe1"
      },
      "execution_count": 6,
      "outputs": [
        {
          "output_type": "execute_result",
          "data": {
            "text/plain": [
              "   Flow_ID      Date      Time  Count\n",
              "0        9  07/24/05  00:00:00      0\n",
              "1        7  07/24/05  00:30:00      1\n",
              "2        9  07/24/05  00:30:00      0\n",
              "3        7  07/24/05  01:00:00      0\n",
              "4        9  07/24/05  01:00:00      0"
            ],
            "text/html": [
              "\n",
              "  <div id=\"df-13a4839d-86ed-49c4-8c33-5d8e9e4213fb\">\n",
              "    <div class=\"colab-df-container\">\n",
              "      <div>\n",
              "<style scoped>\n",
              "    .dataframe tbody tr th:only-of-type {\n",
              "        vertical-align: middle;\n",
              "    }\n",
              "\n",
              "    .dataframe tbody tr th {\n",
              "        vertical-align: top;\n",
              "    }\n",
              "\n",
              "    .dataframe thead th {\n",
              "        text-align: right;\n",
              "    }\n",
              "</style>\n",
              "<table border=\"1\" class=\"dataframe\">\n",
              "  <thead>\n",
              "    <tr style=\"text-align: right;\">\n",
              "      <th></th>\n",
              "      <th>Flow_ID</th>\n",
              "      <th>Date</th>\n",
              "      <th>Time</th>\n",
              "      <th>Count</th>\n",
              "    </tr>\n",
              "  </thead>\n",
              "  <tbody>\n",
              "    <tr>\n",
              "      <th>0</th>\n",
              "      <td>9</td>\n",
              "      <td>07/24/05</td>\n",
              "      <td>00:00:00</td>\n",
              "      <td>0</td>\n",
              "    </tr>\n",
              "    <tr>\n",
              "      <th>1</th>\n",
              "      <td>7</td>\n",
              "      <td>07/24/05</td>\n",
              "      <td>00:30:00</td>\n",
              "      <td>1</td>\n",
              "    </tr>\n",
              "    <tr>\n",
              "      <th>2</th>\n",
              "      <td>9</td>\n",
              "      <td>07/24/05</td>\n",
              "      <td>00:30:00</td>\n",
              "      <td>0</td>\n",
              "    </tr>\n",
              "    <tr>\n",
              "      <th>3</th>\n",
              "      <td>7</td>\n",
              "      <td>07/24/05</td>\n",
              "      <td>01:00:00</td>\n",
              "      <td>0</td>\n",
              "    </tr>\n",
              "    <tr>\n",
              "      <th>4</th>\n",
              "      <td>9</td>\n",
              "      <td>07/24/05</td>\n",
              "      <td>01:00:00</td>\n",
              "      <td>0</td>\n",
              "    </tr>\n",
              "  </tbody>\n",
              "</table>\n",
              "</div>\n",
              "      <button class=\"colab-df-convert\" onclick=\"convertToInteractive('df-13a4839d-86ed-49c4-8c33-5d8e9e4213fb')\"\n",
              "              title=\"Convert this dataframe to an interactive table.\"\n",
              "              style=\"display:none;\">\n",
              "        \n",
              "  <svg xmlns=\"http://www.w3.org/2000/svg\" height=\"24px\"viewBox=\"0 0 24 24\"\n",
              "       width=\"24px\">\n",
              "    <path d=\"M0 0h24v24H0V0z\" fill=\"none\"/>\n",
              "    <path d=\"M18.56 5.44l.94 2.06.94-2.06 2.06-.94-2.06-.94-.94-2.06-.94 2.06-2.06.94zm-11 1L8.5 8.5l.94-2.06 2.06-.94-2.06-.94L8.5 2.5l-.94 2.06-2.06.94zm10 10l.94 2.06.94-2.06 2.06-.94-2.06-.94-.94-2.06-.94 2.06-2.06.94z\"/><path d=\"M17.41 7.96l-1.37-1.37c-.4-.4-.92-.59-1.43-.59-.52 0-1.04.2-1.43.59L10.3 9.45l-7.72 7.72c-.78.78-.78 2.05 0 2.83L4 21.41c.39.39.9.59 1.41.59.51 0 1.02-.2 1.41-.59l7.78-7.78 2.81-2.81c.8-.78.8-2.07 0-2.86zM5.41 20L4 18.59l7.72-7.72 1.47 1.35L5.41 20z\"/>\n",
              "  </svg>\n",
              "      </button>\n",
              "      \n",
              "  <style>\n",
              "    .colab-df-container {\n",
              "      display:flex;\n",
              "      flex-wrap:wrap;\n",
              "      gap: 12px;\n",
              "    }\n",
              "\n",
              "    .colab-df-convert {\n",
              "      background-color: #E8F0FE;\n",
              "      border: none;\n",
              "      border-radius: 50%;\n",
              "      cursor: pointer;\n",
              "      display: none;\n",
              "      fill: #1967D2;\n",
              "      height: 32px;\n",
              "      padding: 0 0 0 0;\n",
              "      width: 32px;\n",
              "    }\n",
              "\n",
              "    .colab-df-convert:hover {\n",
              "      background-color: #E2EBFA;\n",
              "      box-shadow: 0px 1px 2px rgba(60, 64, 67, 0.3), 0px 1px 3px 1px rgba(60, 64, 67, 0.15);\n",
              "      fill: #174EA6;\n",
              "    }\n",
              "\n",
              "    [theme=dark] .colab-df-convert {\n",
              "      background-color: #3B4455;\n",
              "      fill: #D2E3FC;\n",
              "    }\n",
              "\n",
              "    [theme=dark] .colab-df-convert:hover {\n",
              "      background-color: #434B5C;\n",
              "      box-shadow: 0px 1px 3px 1px rgba(0, 0, 0, 0.15);\n",
              "      filter: drop-shadow(0px 1px 2px rgba(0, 0, 0, 0.3));\n",
              "      fill: #FFFFFF;\n",
              "    }\n",
              "  </style>\n",
              "\n",
              "      <script>\n",
              "        const buttonEl =\n",
              "          document.querySelector('#df-13a4839d-86ed-49c4-8c33-5d8e9e4213fb button.colab-df-convert');\n",
              "        buttonEl.style.display =\n",
              "          google.colab.kernel.accessAllowed ? 'block' : 'none';\n",
              "\n",
              "        async function convertToInteractive(key) {\n",
              "          const element = document.querySelector('#df-13a4839d-86ed-49c4-8c33-5d8e9e4213fb');\n",
              "          const dataTable =\n",
              "            await google.colab.kernel.invokeFunction('convertToInteractive',\n",
              "                                                     [key], {});\n",
              "          if (!dataTable) return;\n",
              "\n",
              "          const docLinkHtml = 'Like what you see? Visit the ' +\n",
              "            '<a target=\"_blank\" href=https://colab.research.google.com/notebooks/data_table.ipynb>data table notebook</a>'\n",
              "            + ' to learn more about interactive tables.';\n",
              "          element.innerHTML = '';\n",
              "          dataTable['output_type'] = 'display_data';\n",
              "          await google.colab.output.renderOutput(dataTable, element);\n",
              "          const docLink = document.createElement('div');\n",
              "          docLink.innerHTML = docLinkHtml;\n",
              "          element.appendChild(docLink);\n",
              "        }\n",
              "      </script>\n",
              "    </div>\n",
              "  </div>\n",
              "  "
            ]
          },
          "metadata": {},
          "execution_count": 6
        }
      ]
    },
    {
      "cell_type": "code",
      "source": [
        "selected_data = df[(df['Date'] == '07/24/05') & (df['Flow_ID'] == 9)]\n",
        "print(\"Selected data:\")\n",
        "print(selected_data)"
      ],
      "metadata": {
        "colab": {
          "base_uri": "https://localhost:8080/"
        },
        "id": "s5tBgoC9KY5l",
        "outputId": "063dc371-13da-4eb5-af78-1a22cfd91111"
      },
      "execution_count": 8,
      "outputs": [
        {
          "output_type": "stream",
          "name": "stdout",
          "text": [
            "Selected data:\n",
            "    Flow_ID      Date      Time  Count\n",
            "0         9  07/24/05  00:00:00      0\n",
            "2         9  07/24/05  00:30:00      0\n",
            "4         9  07/24/05  01:00:00      0\n",
            "6         9  07/24/05  01:30:00      0\n",
            "8         9  07/24/05  02:00:00      0\n",
            "10        9  07/24/05  02:30:00      0\n",
            "12        9  07/24/05  03:00:00      0\n",
            "14        9  07/24/05  03:30:00      0\n",
            "16        9  07/24/05  04:00:00      0\n",
            "18        9  07/24/05  04:30:00      0\n",
            "20        9  07/24/05  05:00:00      0\n",
            "22        9  07/24/05  05:30:00      0\n",
            "24        9  07/24/05  06:00:00      0\n",
            "26        9  07/24/05  06:30:00      0\n",
            "28        9  07/24/05  07:00:00      0\n",
            "30        9  07/24/05  07:30:00      3\n",
            "32        9  07/24/05  08:00:00      0\n",
            "34        9  07/24/05  08:30:00      0\n",
            "36        9  07/24/05  09:00:00      1\n",
            "38        9  07/24/05  09:30:00      1\n",
            "40        9  07/24/05  10:00:00      0\n",
            "42        9  07/24/05  10:30:00      0\n",
            "44        9  07/24/05  11:00:00      0\n",
            "46        9  07/24/05  11:30:00      0\n",
            "48        9  07/24/05  12:00:00      0\n",
            "50        9  07/24/05  12:30:00      0\n",
            "52        9  07/24/05  13:00:00      0\n",
            "54        9  07/24/05  13:30:00      0\n",
            "56        9  07/24/05  14:00:00      0\n",
            "58        9  07/24/05  14:30:00      0\n",
            "60        9  07/24/05  15:00:00      0\n",
            "62        9  07/24/05  15:30:00      2\n",
            "64        9  07/24/05  16:00:00      0\n",
            "66        9  07/24/05  16:30:00      1\n",
            "68        9  07/24/05  17:00:00      1\n",
            "70        9  07/24/05  17:30:00      1\n",
            "72        9  07/24/05  18:00:00      4\n",
            "74        9  07/24/05  18:30:00      0\n",
            "76        9  07/24/05  19:00:00      0\n",
            "78        9  07/24/05  19:30:00      2\n",
            "80        9  07/24/05  20:00:00      0\n",
            "82        9  07/24/05  20:30:00      0\n",
            "84        9  07/24/05  21:00:00      0\n",
            "86        9  07/24/05  21:30:00      0\n",
            "88        9  07/24/05  22:00:00      0\n",
            "90        9  07/24/05  22:30:00      0\n",
            "92        9  07/24/05  23:00:00      0\n",
            "94        9  07/24/05  23:30:00      0\n"
          ]
        }
      ]
    },
    {
      "cell_type": "code",
      "source": [
        "top5 = selected_data.sort_values('Count', ascending=False).head(5)\n",
        "print(\"\\nTop 5 rows:\")\n",
        "print(top5)"
      ],
      "metadata": {
        "colab": {
          "base_uri": "https://localhost:8080/"
        },
        "id": "6rTRBeXAKeLH",
        "outputId": "befe0358-9a1e-427a-cf69-07aafc32fe94"
      },
      "execution_count": 11,
      "outputs": [
        {
          "output_type": "stream",
          "name": "stdout",
          "text": [
            "\n",
            "Top 5 rows:\n",
            "    Flow_ID      Date      Time  Count\n",
            "72        9  07/24/05  18:00:00      4\n",
            "30        9  07/24/05  07:30:00      3\n",
            "62        9  07/24/05  15:30:00      2\n",
            "78        9  07/24/05  19:30:00      2\n",
            "70        9  07/24/05  17:30:00      1\n"
          ]
        }
      ]
    },
    {
      "cell_type": "code",
      "source": [
        "lowest_value = top5['Count'].min()\n",
        "top5['Adjusted_Count'] = top5['Count'].apply(lambda x: x - lowest_value)\n",
        "average_count = top5['Adjusted_Count'].mean()\n",
        "print(\"\\nAverage adjusted count:\")\n",
        "print(average_count)"
      ],
      "metadata": {
        "colab": {
          "base_uri": "https://localhost:8080/"
        },
        "id": "-xilrKrXKnws",
        "outputId": "1b392295-a00c-49dd-f849-19ff4e929aa2"
      },
      "execution_count": 12,
      "outputs": [
        {
          "output_type": "stream",
          "name": "stdout",
          "text": [
            "\n",
            "Average adjusted count:\n",
            "1.4\n"
          ]
        }
      ]
    },
    {
      "cell_type": "code",
      "source": [
        "july_data = df[(df['Date'].str.startswith('08/')) & (df['Flow_ID'] == 7)]\n",
        "print(\"\\nJuly data:\")\n",
        "print(july_data)"
      ],
      "metadata": {
        "colab": {
          "base_uri": "https://localhost:8080/"
        },
        "id": "WGTMXrw0K0xT",
        "outputId": "537ee40e-cc33-4cb7-e041-e30f64d334b8"
      },
      "execution_count": 13,
      "outputs": [
        {
          "output_type": "stream",
          "name": "stdout",
          "text": [
            "\n",
            "July data:\n",
            "      Flow_ID      Date      Time  Count\n",
            "767         7  08/01/05  00:00:00      1\n",
            "769         7  08/01/05  00:30:00      0\n",
            "771         7  08/01/05  01:00:00      0\n",
            "773         7  08/01/05  01:30:00      0\n",
            "775         7  08/01/05  02:00:00      0\n",
            "...       ...       ...       ...    ...\n",
            "3733        7  08/31/05  21:30:00      0\n",
            "3735        7  08/31/05  22:00:00      2\n",
            "3737        7  08/31/05  22:30:00      1\n",
            "3739        7  08/31/05  23:00:00      0\n",
            "3741        7  08/31/05  23:30:00      2\n",
            "\n",
            "[1488 rows x 4 columns]\n"
          ]
        }
      ]
    },
    {
      "cell_type": "code",
      "source": [
        "max_count_per_date = july_data.groupby('Date')['Count'].max()\n",
        "print(\"\\nMaximum count per date:\")\n",
        "print(max_count_per_date)"
      ],
      "metadata": {
        "colab": {
          "base_uri": "https://localhost:8080/"
        },
        "id": "99oUt0i5LArD",
        "outputId": "4b8efc4e-03b7-4e78-9006-09183928adf2"
      },
      "execution_count": 14,
      "outputs": [
        {
          "output_type": "stream",
          "name": "stdout",
          "text": [
            "\n",
            "Maximum count per date:\n",
            "Date\n",
            "08/01/05    18\n",
            "08/02/05    16\n",
            "08/03/05    26\n",
            "08/04/05    40\n",
            "08/05/05    17\n",
            "08/06/05     8\n",
            "08/07/05     3\n",
            "08/08/05    16\n",
            "08/09/05    19\n",
            "08/10/05    25\n",
            "08/11/05    16\n",
            "08/12/05    21\n",
            "08/13/05     5\n",
            "08/14/05     3\n",
            "08/15/05    17\n",
            "08/16/05    24\n",
            "08/17/05    22\n",
            "08/18/05    39\n",
            "08/19/05    23\n",
            "08/20/05     3\n",
            "08/21/05     4\n",
            "08/22/05    23\n",
            "08/23/05    25\n",
            "08/24/05    17\n",
            "08/25/05    24\n",
            "08/26/05    22\n",
            "08/27/05     3\n",
            "08/28/05     7\n",
            "08/29/05    15\n",
            "08/30/05    47\n",
            "08/31/05    19\n",
            "Name: Count, dtype: int64\n"
          ]
        }
      ]
    }
  ]
}